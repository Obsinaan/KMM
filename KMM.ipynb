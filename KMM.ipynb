{
  "cells": [
    {
      "cell_type": "markdown",
      "metadata": {
        "id": "K7zFsGOy7Eug"
      },
      "source": [
        "# Kernel Mean Matching (KMM)"
      ]
    },
    {
      "cell_type": "markdown",
      "metadata": {
        "id": "hlwpt6TP7Euo"
      },
      "source": [
        "Kernel Mean Matching (KMM) assumes that training and test data are drawn from different distributions. KMM is a nonparametric method which directly produces resampling weights without distribution estimation, by matching distributions between training and testing sets in feature space. KMM accounts for difference between training and test distributions Pr⁡(x,y)and Pr'(x,y) by reweighting the training points such that the means of the training and test points in a reproducing kernel Hilbert space (RKHS) are close.\n",
        "When Pr⁡and  Pr' differ only in Pr(x) ⁡and  Pr'(x), we have β(x,y)=  (Pr'(x))⁄(Pr⁡(x)), where β is a reweighting factor for the training examples. Thus, every observation (x,y)  reweighted such that observations that are under-represented in Pr obtain a higher weight, whereas over-represented cases are down weighted.\n"
      ]
    },
    {
      "cell_type": "markdown",
      "metadata": {
        "id": "KVIsQ2qt7Euq"
      },
      "source": [
        "# Empirical KMM optimization"
      ]
    },
    {
      "cell_type": "markdown",
      "metadata": {
        "id": "15lLrdDh7Eur"
      },
      "source": [
        "To find suitable values of β ∈ R^m, we want to minimize the discrepancy between means subject to constraints β_i  ∈[0,B]* and |1/m ∑_(i=1)^m β_{i-1}|≤ε. The former limits the scope of discrepancy between Pr⁡and  Pr' whereas the latter ensures that the measure β(x)Pr⁡(x) is close to a probability distribution. The objective function is given by the discrepancy term between the two empirical means. Using K_ij≔k(x_i,x_j) and k_i≔m/m^'  ∑_(j=1)^(m^')〖k(x_i,x_j^')〗 , we have:\n",
        "![image.png](attachment:image.png)"
      ]
    },
    {
      "cell_type": "markdown",
      "metadata": {
        "id": "SCFwZ6oB7Eus"
      },
      "source": [
        "Then, to find suitable β, the quadratic problem is formulated as: \n",
        "![image.png](attachment:image.png)"
      ]
    },
    {
      "cell_type": "code",
      "execution_count": 25,
      "metadata": {
        "id": "YUB4mjf37Euu"
      },
      "outputs": [],
      "source": [
        "import numpy as np\n",
        "import sklearn.metrics\n",
        "from cvxopt import matrix, solvers\n",
        "import matplotlib.pyplot as plt\n",
        "import pandas as pd\n",
        "from scipy.stats import spearmanr "
      ]
    },
    {
      "cell_type": "code",
      "execution_count": 26,
      "metadata": {
        "id": "0vo2fxko7Eu0"
      },
      "outputs": [],
      "source": [
        "#%% Kernel\n",
        "def kernel(ker, X1, X2, gamma):\n",
        "    K = None\n",
        "    if ker == 'linear':\n",
        "        if X2 is not None:\n",
        "            K = sklearn.metrics.pairwise.linear_kernel(np.asarray(X1), np.asarray(X2))\n",
        "        else:\n",
        "            K = sklearn.metrics.pairwise.linear_kernel(np.asarray(X1))\n",
        "    elif ker == 'rbf':\n",
        "        if X2 is not None:\n",
        "            K = sklearn.metrics.pairwise.rbf_kernel(np.asarray(X1), np.asarray(X2), gamma)\n",
        "        else:\n",
        "            K = sklearn.metrics.pairwise.rbf_kernel(np.asarray(X1), None, gamma)\n",
        "    return K"
      ]
    },
    {
      "cell_type": "code",
      "execution_count": 27,
      "metadata": {
        "id": "2vQF24kd7Eu2"
      },
      "outputs": [],
      "source": [
        "#%% Kernel Mean Matching (KMM)\n",
        "class KMM:\n",
        "    def __init__(self, kernel_type='linear', gamma=1.0, B=1.0, eps=None):\n",
        "        '''\n",
        "        Initialization function\n",
        "        :param kernel_type: 'linear' | 'rbf'\n",
        "        :param gamma: kernel bandwidth for rbf kernel\n",
        "        :param B: bound for beta\n",
        "        :param eps: bound for sigma_beta\n",
        "        '''\n",
        "        self.kernel_type = kernel_type\n",
        "        self.gamma = gamma\n",
        "        self.B = B\n",
        "        self.eps = eps\n",
        "\n",
        "    def fit(self, Xs, Xt):\n",
        "        '''\n",
        "        Fit source and target using KMM (compute the coefficients)\n",
        "        :param Xs: ns * dim\n",
        "        :param Xt: nt * dim\n",
        "        :return: Coefficients (Pt / Ps) value vector (Beta in the paper)\n",
        "        '''\n",
        "        ns = Xs.shape[0]\n",
        "        nt = Xt.shape[0]\n",
        "        if self.eps == None:\n",
        "            self.eps = self.B / np.sqrt(ns)\n",
        "        K = kernel(self.kernel_type, Xs, None, self.gamma)\n",
        "        kappa = np.sum(kernel(self.kernel_type, Xs, Xt, self.gamma) * float(ns) / float(nt), axis=1)\n",
        "\n",
        "        K = matrix(K)\n",
        "        kappa = matrix(kappa)\n",
        "        G = matrix(np.r_[np.ones((1, ns)), -np.ones((1, ns)), np.eye(ns), -np.eye(ns)])\n",
        "        h = matrix(np.r_[ns * (1 + self.eps), ns * (self.eps - 1), self.B * np.ones((ns,)), np.zeros((ns,))])\n",
        "\n",
        "        sol = solvers.qp(K, -kappa, G, h)\n",
        "        beta = np.array(sol['x'])\n",
        "        return beta"
      ]
    },
    {
      "cell_type": "code",
      "execution_count": 28,
      "metadata": {
        "id": "nEXj-Mk17Eu5"
      },
      "outputs": [],
      "source": [
        "# Reading the data\n",
        "# X1 is in the source domain, and X2 is in the target domain\n",
        "\n",
        "X1 = pd.read_csv(\"/content/MB_1_X1.csv\")\n",
        "X2 = pd.read_csv(\"/content/MB_1_X2.csv\")\n",
        "Y1 = pd.read_csv(\"/content/MB_1_Y1.csv\")\n",
        "Y2 = pd.read_csv(\"/content/MB_1_Y2.csv\")\n",
        "X1 = X1.values;  X2 = X2.values;   Y1 = Y1.values;   Y2 = Y2.values;"
      ]
    },
    {
      "cell_type": "code",
      "source": [
        "X1.shape"
      ],
      "metadata": {
        "colab": {
          "base_uri": "https://localhost:8080/"
        },
        "id": "4ew5T213_Fyp",
        "outputId": "c1ba54ad-b562-4b0a-fe95-8cb1221fd783"
      },
      "execution_count": 29,
      "outputs": [
        {
          "output_type": "execute_result",
          "data": {
            "text/plain": [
              "(1904, 100)"
            ]
          },
          "metadata": {},
          "execution_count": 29
        }
      ]
    },
    {
      "cell_type": "code",
      "source": [
        "X2.shape"
      ],
      "metadata": {
        "colab": {
          "base_uri": "https://localhost:8080/"
        },
        "id": "nIDUQYby_NP3",
        "outputId": "f5785e14-5a46-449d-f6fb-72a0f10f3490"
      },
      "execution_count": 30,
      "outputs": [
        {
          "output_type": "execute_result",
          "data": {
            "text/plain": [
              "(108, 100)"
            ]
          },
          "metadata": {},
          "execution_count": 30
        }
      ]
    },
    {
      "cell_type": "code",
      "source": [
        "X2"
      ],
      "metadata": {
        "colab": {
          "base_uri": "https://localhost:8080/"
        },
        "id": "TAjB3t2rAHtB",
        "outputId": "5aadb254-37e5-490c-efaf-c440dc74b37f"
      },
      "execution_count": 31,
      "outputs": [
        {
          "output_type": "execute_result",
          "data": {
            "text/plain": [
              "array([[ 0.2120801 ,  1.08331463, -0.39957642, ..., -0.11803367,\n",
              "        -0.98950262,  1.41879209],\n",
              "       [ 0.80883553,  2.11073797, -0.58331735, ...,  0.5724173 ,\n",
              "        -0.11242305,  0.68061927],\n",
              "       [-0.31154211, -1.08488106, -0.43304116, ..., -0.71525828,\n",
              "         1.23091389,  0.28492286],\n",
              "       ...,\n",
              "       [ 0.96311119, -0.58186545, -0.47208858, ..., -0.67859814,\n",
              "        -0.61012812,  0.25147993],\n",
              "       [-0.62795322,  0.85591494, -0.53010965, ..., -0.44211003,\n",
              "        -0.65869382,  0.6049808 ],\n",
              "       [ 0.19966083, -0.62375079, -0.76616415, ..., -0.92458441,\n",
              "        -0.71078929,  0.50251717]])"
            ]
          },
          "metadata": {},
          "execution_count": 31
        }
      ]
    },
    {
      "cell_type": "code",
      "source": [
        "Y1.shape"
      ],
      "metadata": {
        "colab": {
          "base_uri": "https://localhost:8080/"
        },
        "id": "gFXGJTSq_Tcg",
        "outputId": "ce6e3617-de6d-437b-848e-17e9b0d86392"
      },
      "execution_count": 32,
      "outputs": [
        {
          "output_type": "execute_result",
          "data": {
            "text/plain": [
              "(1904, 1)"
            ]
          },
          "metadata": {},
          "execution_count": 32
        }
      ]
    },
    {
      "cell_type": "code",
      "source": [
        "Y1"
      ],
      "metadata": {
        "colab": {
          "base_uri": "https://localhost:8080/"
        },
        "id": "AHqmVRKhAR6X",
        "outputId": "1b09d3ff-4b7d-4dc7-a84c-cf1f1cdd0f79"
      },
      "execution_count": 33,
      "outputs": [
        {
          "output_type": "execute_result",
          "data": {
            "text/plain": [
              "array([[ 0.35029889],\n",
              "       [-0.01358517],\n",
              "       [ 0.5139788 ],\n",
              "       ...,\n",
              "       [ 0.03555878],\n",
              "       [ 0.66874883],\n",
              "       [-0.04343582]])"
            ]
          },
          "metadata": {},
          "execution_count": 33
        }
      ]
    },
    {
      "cell_type": "code",
      "source": [
        "Y2.shape"
      ],
      "metadata": {
        "colab": {
          "base_uri": "https://localhost:8080/"
        },
        "id": "_7vQ8Jel_XZX",
        "outputId": "9b355cdc-54f3-4568-d92a-f175ad13a16f"
      },
      "execution_count": 34,
      "outputs": [
        {
          "output_type": "execute_result",
          "data": {
            "text/plain": [
              "(108, 1)"
            ]
          },
          "metadata": {},
          "execution_count": 34
        }
      ]
    },
    {
      "cell_type": "code",
      "execution_count": 35,
      "metadata": {
        "colab": {
          "base_uri": "https://localhost:8080/"
        },
        "id": "sprknsYh7Eu9",
        "outputId": "082a54f4-e15b-4d02-afa8-91b154b8e8dd"
      },
      "outputs": [
        {
          "output_type": "stream",
          "name": "stdout",
          "text": [
            "     pcost       dcost       gap    pres   dres\n",
            " 0:  9.5100e+02 -8.4207e+04  9e+04  2e-16  9e-10\n",
            " 1:  9.5095e+02 -1.7015e+03  3e+03  3e-15  3e-11\n",
            " 2:  9.0928e+02 -1.6625e+03  3e+03  5e-15  3e-11\n",
            " 3:  9.0887e+02 -1.6423e+03  3e+03  2e-15  3e-11\n",
            " 4:  9.0907e+02  4.9676e+02  4e+02  3e-15  5e-13\n",
            " 5:  9.0900e+02  9.0460e+02  4e+00  3e-15  5e-14\n",
            " 6:  9.0887e+02  9.0882e+02  4e-02  1e-15  5e-14\n",
            " 7:  9.0887e+02  9.0886e+02  4e-04  2e-15  7e-14\n",
            "Optimal solution found.\n"
          ]
        }
      ],
      "source": [
        "# X1 is the Tumor data , and X2 is the cell line data\n",
        "#%% Kernel Mean Matching\n",
        "kmm = KMM(kernel_type='rbf', B=1)\n",
        "beta = kmm.fit(X1, X2)\n",
        "X1_hat = beta*X1"
      ]
    },
    {
      "cell_type": "code",
      "execution_count": 36,
      "metadata": {
        "colab": {
          "base_uri": "https://localhost:8080/"
        },
        "id": "3YN-IOwv7EvM",
        "outputId": "1341b486-5e7a-410e-819d-54aa84575442"
      },
      "outputs": [
        {
          "output_type": "stream",
          "name": "stderr",
          "text": [
            "/usr/local/lib/python3.7/dist-packages/ipykernel_launcher.py:5: DataConversionWarning: A column-vector y was passed when a 1d array was expected. Please change the shape of y to (n_samples,), for example using ravel().\n",
            "  \"\"\"\n"
          ]
        }
      ],
      "source": [
        "#%% Modeling\n",
        "from sklearn.ensemble import RandomForestRegressor\n",
        "regr = RandomForestRegressor(random_state=0, n_estimators=200)\n",
        "beta = beta.reshape(len(beta))\n",
        "regr.fit(X2, Y2) \n",
        "Y1_hat = regr.predict(X1_hat)\n",
        "Y1_hat = Y1_hat.reshape(len(Y1_hat),1)\n",
        "#beta2 = kmm.fit(Y1, Y2)\n",
        "#beta2 = beta2.reshape(len(beta2))\n",
        "beta = beta.reshape(len(beta),1)\n",
        "Y1_Pred = np.multiply(beta,Y1_hat)"
      ]
    },
    {
      "cell_type": "code",
      "execution_count": 37,
      "metadata": {
        "colab": {
          "base_uri": "https://localhost:8080/"
        },
        "id": "g4l89ENj7EvN",
        "outputId": "2347ae4f-1457-4599-b98b-b3b12edede05"
      },
      "outputs": [
        {
          "output_type": "stream",
          "name": "stdout",
          "text": [
            "NRMSE =  1.039880339974195 , NMAE =  1.0408204944561321 , Spearman Correlation =  -0.06090144731723068\n"
          ]
        }
      ],
      "source": [
        "#%% NRMSE\n",
        "#Y1_Pred = Y1_hat\n",
        "def NRMSE(Y_Target, Y_Predict):\n",
        "    Y_Target = Y_Target.reshape(len(Y_Target),1);    Y_Predict = Y_Predict.reshape(len(Y_Predict),1);    \n",
        "    Y_Bar = np.mean(Y_Target, axis = 0)\n",
        "    Nom = np.sum((Y_Predict - Y_Target)**2);    Denom = np.sum((Y_Bar - Y_Target)**2)\n",
        "    MSE = np.mean((Y_Predict - Y_Target)**2);   NRMSE = np.sqrt(Nom/Denom)\n",
        "    return NRMSE, MSE\n",
        "\n",
        "\n",
        "def NMAE(Y_Target, Y_Predict):\n",
        "    Y_Target = Y_Target.reshape(len(Y_Target),1);    Y_Predict = Y_Predict.reshape(len(Y_Predict),1);  \n",
        "    Nom = np.sum(np.abs(Y_Target - Y_Predict))\n",
        "    Den = np.sum(np.abs(Y_Target - np.mean(Y_Target)))\n",
        "    NMAE = Nom/Den\n",
        "    return NMAE\n",
        "\n",
        "NRMSE,MSE =  NRMSE(Y1, Y1_Pred)\n",
        "SCC, SCC_Pval = spearmanr(Y1, Y1_Pred)\n",
        "NMAE_Val = NMAE(Y1, Y1_Pred)\n",
        "\n",
        "Results = np.array([NRMSE,NMAE_Val,SCC]);   Results = Results.reshape(1,len(Results))\n",
        "Results_PD = pd.DataFrame(data = Results, columns = ['NRMSE','NMAE','SCC'])\n",
        "print(\"NRMSE = \", NRMSE , \", NMAE = \", NMAE_Val, \", Spearman Correlation = \", SCC)"
      ]
    },
    {
      "cell_type": "code",
      "execution_count": 37,
      "metadata": {
        "id": "mWIXq-ul7EvP"
      },
      "outputs": [],
      "source": [
        ""
      ]
    }
  ],
  "metadata": {
    "kernelspec": {
      "display_name": "Python 3",
      "language": "python",
      "name": "python3"
    },
    "language_info": {
      "codemirror_mode": {
        "name": "ipython",
        "version": 3
      },
      "file_extension": ".py",
      "mimetype": "text/x-python",
      "name": "python",
      "nbconvert_exporter": "python",
      "pygments_lexer": "ipython3",
      "version": "3.6.7"
    },
    "colab": {
      "name": "KMM.ipynb",
      "provenance": []
    }
  },
  "nbformat": 4,
  "nbformat_minor": 0
}